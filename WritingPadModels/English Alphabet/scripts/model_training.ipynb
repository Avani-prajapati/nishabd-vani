{
 "cells": [
  {
   "cell_type": "code",
   "execution_count": 1,
   "id": "68239407-defa-40b9-a185-ef8783e5f3fa",
   "metadata": {},
   "outputs": [],
   "source": [
    "import numpy as np\n",
    "import matplotlib.pyplot as plt\n",
    "import seaborn as sns\n",
    "\n",
    "from bidict import bidict\n",
    "from tensorflow import keras\n",
    "from tensorflow.keras import layers\n",
    "\n",
    "from sklearn.utils import shuffle\n",
    "from sklearn.metrics import confusion_matrix"
   ]
  },
  {
   "cell_type": "code",
   "execution_count": 2,
   "id": "a8f8a6de-6a57-4e99-a9fd-f32285ac7a25",
   "metadata": {},
   "outputs": [],
   "source": [
    "ENCODER = bidict({\n",
    "    'A': 1, 'B': 2, 'C': 3, 'D': 4, 'E': 5, 'F': 6,\n",
    "    'G': 7, 'H': 8, 'I': 9, 'J': 10, 'K': 11, 'L': 12,\n",
    "    'M': 13, 'N': 14, 'O': 15, 'P': 16, 'Q': 17, 'R': 18,\n",
    "    'S': 19, 'T': 20, 'U': 21, 'V': 22, 'W': 23, 'X': 24,\n",
    "    'Y': 25, 'Z': 26\n",
    "})"
   ]
  },
  {
   "cell_type": "code",
   "execution_count": 3,
   "id": "2fa88396-45f2-436c-b8c9-ac45646358a4",
   "metadata": {},
   "outputs": [
    {
     "data": {
      "text/plain": [
       "(260,)"
      ]
     },
     "execution_count": 3,
     "metadata": {},
     "output_type": "execute_result"
    }
   ],
   "source": [
    "labels = np.load('../data/labels.npy')\n",
    "labels = np.array([ENCODER[x] for x in labels])\n",
    "labels.shape"
   ]
  },
  {
   "cell_type": "code",
   "execution_count": 4,
   "id": "f0385790-aab4-44ee-80b9-c150bd7eaf1c",
   "metadata": {},
   "outputs": [
    {
     "data": {
      "text/plain": [
       "(260, 50, 50)"
      ]
     },
     "execution_count": 4,
     "metadata": {},
     "output_type": "execute_result"
    }
   ],
   "source": [
    "imgs = np.load('../data/images.npy')\n",
    "imgs = imgs.astype(\"float32\") / 255\n",
    "imgs.shape"
   ]
  },
  {
   "cell_type": "code",
   "execution_count": 5,
   "id": "f6232bc6-c80f-4537-9209-e991984b9080",
   "metadata": {},
   "outputs": [],
   "source": [
    "# plt.figure()\n",
    "# plt.imshow(imgs[0])\n",
    "# plt.grid(False)\n",
    "# plt.show()"
   ]
  },
  {
   "cell_type": "code",
   "execution_count": 6,
   "id": "b51ab24f-1ca7-4791-9347-8a86f77e4527",
   "metadata": {},
   "outputs": [],
   "source": [
    "imgs = np.expand_dims(imgs, -1)"
   ]
  },
  {
   "cell_type": "code",
   "execution_count": 7,
   "id": "fdeb2522-c850-4a46-af5f-d4d24e11647f",
   "metadata": {},
   "outputs": [],
   "source": [
    "labels, imgs = shuffle(labels, imgs)\n",
    "split = .75\n",
    "\n",
    "labels_train = labels[:int(len(labels) * split)]\n",
    "labels_test = labels[int(len(labels) * split):]\n",
    "\n",
    "imgs_train = imgs[:int(len(imgs) * split)]\n",
    "imgs_test = imgs[int(len(imgs) * split):]"
   ]
  },
  {
   "cell_type": "code",
   "execution_count": 8,
   "id": "56a1301b-c954-49bf-b74a-b1b84a5ebd6e",
   "metadata": {},
   "outputs": [],
   "source": [
    "batch_size = 16\n",
    "epochs = 20\n",
    "\n",
    "model = keras.Sequential([\n",
    "    keras.Input(shape=(50, 50, 1)),\n",
    "    layers.Conv2D(256, kernel_size=5, activation='relu'),\n",
    "    layers.MaxPooling2D(pool_size=2),\n",
    "    layers.Dropout(0.3),\n",
    "    layers.Conv2D(512, kernel_size=5, activation='relu'),\n",
    "    layers.MaxPooling2D(pool_size=2),\n",
    "    layers.Dropout(0.3),\n",
    "    layers.Conv2D(1024, kernel_size=5, activation='relu'),\n",
    "    layers.MaxPooling2D(pool_size=2),\n",
    "    layers.Dropout(0.3),\n",
    "    layers.Flatten(),\n",
    "    layers.Dense(len(ENCODER)+1, activation='softmax')\n",
    "])"
   ]
  },
  {
   "cell_type": "code",
   "execution_count": 9,
   "id": "150624f2-edba-4b6b-8559-d2854c073b3c",
   "metadata": {},
   "outputs": [],
   "source": [
    "early_stopping = keras.callbacks.EarlyStopping(monitor=\"val_accuracy\", patience=2)\n",
    "optimizer = keras.optimizers.Adam()\n",
    "\n",
    "model.compile(loss='sparse_categorical_crossentropy',\n",
    "              optimizer=optimizer,\n",
    "              metrics=['accuracy'])"
   ]
  },
  {
   "cell_type": "code",
   "execution_count": null,
   "id": "80805550-5dfe-4b11-872f-9bbecd66d15b",
   "metadata": {},
   "outputs": [
    {
     "name": "stdout",
     "output_type": "stream",
     "text": [
      "Epoch 1/20\n",
      "\u001b[1m13/13\u001b[0m \u001b[32m━━━━━━━━━━━━━━━━━━━━\u001b[0m\u001b[37m\u001b[0m \u001b[1m38s\u001b[0m 3s/step - accuracy: 0.0463 - loss: 3.3419 - val_accuracy: 0.0462 - val_loss: 3.1469\n",
      "Epoch 2/20\n",
      "\u001b[1m13/13\u001b[0m \u001b[32m━━━━━━━━━━━━━━━━━━━━\u001b[0m\u001b[37m\u001b[0m \u001b[1m22s\u001b[0m 2s/step - accuracy: 0.2213 - loss: 2.6772 - val_accuracy: 0.6462 - val_loss: 1.5185\n",
      "Epoch 3/20\n",
      "\u001b[1m13/13\u001b[0m \u001b[32m━━━━━━━━━━━━━━━━━━━━\u001b[0m\u001b[37m\u001b[0m \u001b[1m22s\u001b[0m 2s/step - accuracy: 0.7891 - loss: 0.8308 - val_accuracy: 0.8154 - val_loss: 0.7012\n",
      "Epoch 4/20\n",
      "\u001b[1m13/13\u001b[0m \u001b[32m━━━━━━━━━━━━━━━━━━━━\u001b[0m\u001b[37m\u001b[0m \u001b[1m24s\u001b[0m 2s/step - accuracy: 0.8737 - loss: 0.3187 - val_accuracy: 0.8308 - val_loss: 0.4423\n",
      "Epoch 5/20\n",
      "\u001b[1m13/13\u001b[0m \u001b[32m━━━━━━━━━━━━━━━━━━━━\u001b[0m\u001b[37m\u001b[0m \u001b[1m25s\u001b[0m 2s/step - accuracy: 0.9625 - loss: 0.0961 - val_accuracy: 0.9231 - val_loss: 0.5846\n",
      "Epoch 6/20\n",
      "\u001b[1m13/13\u001b[0m \u001b[32m━━━━━━━━━━━━━━━━━━━━\u001b[0m\u001b[37m\u001b[0m \u001b[1m0s\u001b[0m 2s/step - accuracy: 0.9136 - loss: 0.3544"
     ]
    }
   ],
   "source": [
    "model.fit(imgs_train,\n",
    "          labels_train,\n",
    "          batch_size=batch_size,\n",
    "          epochs=epochs,\n",
    "          validation_data=(imgs_test, labels_test),\n",
    "          callbacks=[early_stopping])"
   ]
  },
  {
   "cell_type": "code",
   "execution_count": null,
   "id": "ccb96943-a51a-4919-afa6-22ca6e9e7147",
   "metadata": {},
   "outputs": [],
   "source": [
    "labels_pred = np.argmax(model.predict(imgs_test), axis=-1)"
   ]
  },
  {
   "cell_type": "code",
   "execution_count": null,
   "id": "9b2a2e84-c707-4372-9fbc-292d054b0a36",
   "metadata": {},
   "outputs": [],
   "source": [
    "cm = confusion_matrix(labels_test, labels_pred, labels=list(ENCODER.inverse.keys()))"
   ]
  },
  {
   "cell_type": "code",
   "execution_count": null,
   "id": "d85d9aa6-b6ca-4017-8bc4-14030d4129aa",
   "metadata": {
    "tags": []
   },
   "outputs": [],
   "source": [
    "plt.figure(figsize=(12, 12))\n",
    "sns.heatmap(cm, annot=True, cbar=False, cmap=\"Blues\", xticklabels=list(ENCODER.keys()), yticklabels=list(ENCODER.keys()))\n",
    "plt.show()"
   ]
  },
  {
   "cell_type": "code",
   "execution_count": null,
   "id": "7836d5b2-3c2d-4004-a82e-d604439a1d93",
   "metadata": {},
   "outputs": [],
   "source": [
    "model.save('../letter.model')"
   ]
  },
  {
   "cell_type": "code",
   "execution_count": null,
   "id": "54533e39-ae0e-4468-a98f-78075dac9843",
   "metadata": {},
   "outputs": [],
   "source": []
  }
 ],
 "metadata": {
  "kernelspec": {
   "display_name": "Python 3 (ipykernel)",
   "language": "python",
   "name": "python3"
  },
  "language_info": {
   "codemirror_mode": {
    "name": "ipython",
    "version": 3
   },
   "file_extension": ".py",
   "mimetype": "text/x-python",
   "name": "python",
   "nbconvert_exporter": "python",
   "pygments_lexer": "ipython3",
   "version": "3.12.4"
  }
 },
 "nbformat": 4,
 "nbformat_minor": 5
}
