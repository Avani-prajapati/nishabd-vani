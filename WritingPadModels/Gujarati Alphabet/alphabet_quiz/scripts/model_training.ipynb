{
 "cells": [
  {
   "cell_type": "code",
   "execution_count": 1,
   "id": "68239407-defa-40b9-a185-ef8783e5f3fa",
   "metadata": {},
   "outputs": [],
   "source": [
    "import numpy as np\n",
    "import matplotlib.pyplot as plt\n",
    "import seaborn as sns\n",
    "\n",
    "from bidict import bidict\n",
    "from tensorflow import keras\n",
    "from tensorflow.keras import layers\n",
    "\n",
    "from sklearn.utils import shuffle\n",
    "from sklearn.metrics import confusion_matrix"
   ]
  },
  {
   "cell_type": "code",
   "execution_count": 2,
   "id": "a8f8a6de-6a57-4e99-a9fd-f32285ac7a25",
   "metadata": {},
   "outputs": [],
   "source": [
    "ENCODER = bidict({\n",
    "    'અ': 1, 'આ': 2, 'ઇ': 3, 'ઈ': 4, 'ઉ': 5, 'ઊ': 6,\n",
    "    'ઋ': 7, 'એ': 8, 'ઐ': 9, 'ઓ': 10, 'ઔ': 11, 'ક': 12,\n",
    "    'ખ': 13, 'ગ': 14, 'ઘ': 15, 'ઙ': 16, 'ચ': 17, 'છ': 18,\n",
    "    'જ': 19, 'ઝ': 20, 'ઞ': 21, 'ટ': 22, 'ઠ': 23, 'ડ': 24,\n",
    "    'ઢ': 25, 'ણ': 26, 'ત': 27, 'થ': 28, 'દ': 29, 'ધ': 30,\n",
    "    'ન': 31, 'પ': 32, 'ફ': 33, 'બ': 34, 'ભ': 35, 'મ': 36,\n",
    "    'ય': 37, 'ર': 38, 'લ': 39, 'વ': 40, 'શ': 41, 'ષ': 42,\n",
    "    'સ': 43, 'હ': 44, 'ળ': 45, 'ક્ષ': 46, 'જ્ઞ': 47\n",
    "})"
   ]
  },
  {
   "cell_type": "code",
   "execution_count": 3,
   "id": "f0385790-aab4-44ee-80b9-c150bd7eaf1c",
   "metadata": {},
   "outputs": [
    {
     "ename": "KeyError",
     "evalue": "'ચ1'",
     "output_type": "error",
     "traceback": [
      "\u001b[1;31m---------------------------------------------------------------------------\u001b[0m",
      "\u001b[1;31mKeyError\u001b[0m                                  Traceback (most recent call last)",
      "Cell \u001b[1;32mIn[3], line 2\u001b[0m\n\u001b[0;32m      1\u001b[0m labels \u001b[38;5;241m=\u001b[39m np\u001b[38;5;241m.\u001b[39mload(\u001b[38;5;124m'\u001b[39m\u001b[38;5;124m../data/labels_gujarati.npy\u001b[39m\u001b[38;5;124m'\u001b[39m)\n\u001b[1;32m----> 2\u001b[0m labels \u001b[38;5;241m=\u001b[39m np\u001b[38;5;241m.\u001b[39marray([ENCODER[x] \u001b[38;5;28;01mfor\u001b[39;00m x \u001b[38;5;129;01min\u001b[39;00m labels])\n\u001b[0;32m      3\u001b[0m labels\u001b[38;5;241m.\u001b[39mshape\n",
      "File \u001b[1;32m~\\AppData\\Roaming\\Python\\Python312\\site-packages\\bidict\\_base.py:524\u001b[0m, in \u001b[0;36mBidictBase.__getitem__\u001b[1;34m(self, key)\u001b[0m\n\u001b[0;32m    522\u001b[0m \u001b[38;5;28;01mdef\u001b[39;00m \u001b[38;5;21m__getitem__\u001b[39m(\u001b[38;5;28mself\u001b[39m, key: KT) \u001b[38;5;241m-\u001b[39m\u001b[38;5;241m>\u001b[39m VT:\n\u001b[0;32m    523\u001b[0m \u001b[38;5;250m    \u001b[39m\u001b[38;5;124;03m\"\"\"*x.__getitem__(key) ⟺ x[key]*\"\"\"\u001b[39;00m\n\u001b[1;32m--> 524\u001b[0m     \u001b[38;5;28;01mreturn\u001b[39;00m \u001b[38;5;28mself\u001b[39m\u001b[38;5;241m.\u001b[39m_fwdm[key]\n",
      "\u001b[1;31mKeyError\u001b[0m: 'ચ1'"
     ]
    }
   ],
   "source": [
    "labels = np.load('../data/labels_gujarati.npy')\n",
    "labels = np.array([ENCODER[x] for x in labels])\n",
    "labels.shape"
   ]
  },
  {
   "cell_type": "code",
   "execution_count": 29,
   "id": "1139969d",
   "metadata": {},
   "outputs": [
    {
     "name": "stdout",
     "output_type": "stream",
     "text": [
      "[ 1 43  5 47 37 37 31  8 38 27 29 15  2 34 29 46  2 45 21 14 15 19 26  2\n",
      "  8 33 32 25 43 42 17 43 24 35 32  9 26 14 19  1 27 37 10 13 30 20  2 30\n",
      " 46 12 30  1 15 35  2 29 19 26  4 25 21  7 39  4 15  2 10 25 43 15  8 46\n",
      " 26 31 35 16 42 31 42 38 21 46 41 43  7 20 25 24 10 45 41 31 29 47 26 24\n",
      "  9  1 46 36 40 12 21 21 33 26 16 29 17 20 36 19 30 29  9  3 27 40 17 36\n",
      " 31 21 19  9 15 21 44 13 41 19 34 17 43 13 32 26 45 16 13 22 28 10 24  4\n",
      "  4 44 40 20 41 34 39  7  1 11 30 45 46 15 42 17  3 27 38  5  6 25 24  2\n",
      " 40 25 29 45 19 15 30 33 32 25 37 37 45 37 16  1 29 43 39 34 34 40 26 45\n",
      " 42  7 14 13 31 41 30 27  3  7 12 15 11 37 21 45  2 11 34 26 20 35 23 22\n",
      " 34 44  9 33 10 20 37 28  5 46 21 21 43 15 47 42 37 36 41 39  8 24 31 13\n",
      " 39 20 31 17  4 43 29  8 45 42 42 44 28 41 19 28 15 20 12  2 26  2 34 41\n",
      " 33 19 10 46 10 28  4 21  5 24 42 16 30 32  7 13 35 46 25  1 19 10 45 16\n",
      "  9 46 47 12 34  1  8 40 11 47 17  7  5 15 19 14  6  6 39 43  5 32 38 32\n",
      " 44  9 29 19 18 25 34  4 20 27  7 47 11 11 41 23 27 22  8 30 14  7 44 20\n",
      " 27 32 45 26 28 35  1 10 30 41 37 14  5 29 40 15 18  8 13 21 16 13 22 10\n",
      " 37 17 39 39 21 40 34 45 20 23 12 37 27 16 10 45 27  3 38 18 38 27 15 37\n",
      " 22 47 24 47  8 17 24 32 21 33  2 13  1 15 43 47 45 10 32 12 26 39 23 44\n",
      " 40 20  1 43 28 17 37 27 30 40 40 34 22 46  7 41 14  3 45 14 24  7 33 11\n",
      " 21 45 47 13 28 26 15  9 38 44 29 34 11 37 13 16 17 27 37 39  1 44  5 11\n",
      " 12 31 40  4  4 13  6 23  7 37 29 29 23 14 34 19  1  9 33 19 37 31 33 47\n",
      " 33 34  3 22 17  9 40 38 22  1 27 43 19  9 24 39 25 37 11 33 21 46  3 19\n",
      " 37 26 20 27 45  7 31 23 28  5 25  5  8 20 38 32  1 40 38 37  1 15 25  2\n",
      " 42 16  9 13 28 42 26  6 12 25 39 36 10 15 18 17  1 20 10  4  6 14 21 30\n",
      " 20 18 39 34 47 30 19 46 36 47 23 35 31 16 17 16 13 41 43 10 12 25 46 31\n",
      " 46 39 35  9 28 14 22 35 36 43 44 41 30  8 47  6 41 31 39 37  9 37 12 43\n",
      " 28 44 15 44 43 32  4 46 28 24 10 31 41 11  5  5  7 15 11  3 15  9 41 46\n",
      " 43 35  6 17 19 12 47  2  8 39 23 40 17 14 34 30 39  6 20 42 12  4 12 30\n",
      " 32  5 28 18 44  4 10 36 34  1 45  2 23 37 25 34 32  6  7  8  2 39 18 20\n",
      " 23 32 17  3 28 13 41  5 45 11  1 23 23 14 14 17 34 19 27 22 24 21 22 38\n",
      " 10 47 27 33  2 23 47 26 23 25 17 44 40 20 40 45 17 36 13  4  8  2  5 25\n",
      " 20 37 26 13  2 19 19  4 26 20  8 19]\n"
     ]
    }
   ],
   "source": [
    "print(labels)"
   ]
  },
  {
   "cell_type": "code",
   "execution_count": null,
   "id": "0f614d10",
   "metadata": {},
   "outputs": [],
   "source": []
  },
  {
   "cell_type": "code",
   "execution_count": 30,
   "id": "a8f22053",
   "metadata": {},
   "outputs": [
    {
     "data": {
      "text/plain": [
       "(732, 50, 50)"
      ]
     },
     "execution_count": 30,
     "metadata": {},
     "output_type": "execute_result"
    }
   ],
   "source": [
    "imgs = np.load('../data/images_gujarati.npy')\n",
    "imgs = imgs.astype(\"float32\") / 255\n",
    "imgs.shape"
   ]
  },
  {
   "cell_type": "code",
   "execution_count": 31,
   "id": "f6232bc6-c80f-4537-9209-e991984b9080",
   "metadata": {},
   "outputs": [
    {
     "data": {
      "image/png": "[encoded data removed]",
      "text/plain": [
       "<Figure size 640x480 with 1 Axes>"
      ]
     },
     "metadata": {},
     "output_type": "display_data"
    }
   ],
   "source": [
    "plt.figure()\n",
    "plt.imshow(imgs[0])\n",
    "plt.grid(False)\n",
    "plt.show()"
   ]
  },
  {
   "cell_type": "code",
   "execution_count": 32,
   "id": "b51ab24f-1ca7-4791-9347-8a86f77e4527",
   "metadata": {},
   "outputs": [],
   "source": [
    "imgs = np.expand_dims(imgs, -1)"
   ]
  },
  {
   "cell_type": "code",
   "execution_count": 33,
   "id": "fdeb2522-c850-4a46-af5f-d4d24e11647f",
   "metadata": {},
   "outputs": [],
   "source": [
    "labels, imgs = shuffle(labels, imgs)\n",
    "split = .75\n",
    "\n",
    "labels_train = labels[:int(len(labels) * split)]\n",
    "labels_test = labels[int(len(labels) * split):]\n",
    "\n",
    "imgs_train = imgs[:int(len(imgs) * split)]\n",
    "imgs_test = imgs[int(len(imgs) * split):]"
   ]
  },
  {
   "cell_type": "code",
   "execution_count": 34,
   "id": "6641e29b",
   "metadata": {},
   "outputs": [
    {
     "data": {
      "text/plain": [
       "(47,)"
      ]
     },
     "execution_count": 34,
     "metadata": {},
     "output_type": "execute_result"
    }
   ],
   "source": [
    "np.unique(labels_train).shape"
   ]
  },
  {
   "cell_type": "code",
   "execution_count": 35,
   "id": "a5ddcd87-a3dd-426a-ae1b-7c72dae7cb56",
   "metadata": {},
   "outputs": [],
   "source": [
    "from tensorflow.keras.preprocessing.image import ImageDataGenerator\n",
    "\n",
    "# Create an ImageDataGenerator for data augmentation\n",
    "datagen = ImageDataGenerator(\n",
    "    rotation_range=10,\n",
    "    width_shift_range=0.1,\n",
    "    height_shift_range=0.1,\n",
    "    zoom_range=0.1,\n",
    "    shear_range=0.1,\n",
    "    fill_mode='nearest'\n",
    ")\n",
    "\n",
    "\n"
   ]
  },
  {
   "cell_type": "code",
   "execution_count": 36,
   "id": "56a1301b-c954-49bf-b74a-b1b84a5ebd6e",
   "metadata": {},
   "outputs": [],
   "source": [
    "batch_size = 16\n",
    "epochs = 20\n",
    "\n",
    "model = keras.Sequential([\n",
    "    keras.Input(shape=(50, 50, 1)),\n",
    "    layers.Conv2D(256, kernel_size=5, activation='relu'),\n",
    "    layers.MaxPooling2D(pool_size=2),\n",
    "    layers.Dropout(0.3),\n",
    "    layers.Conv2D(512, kernel_size=5, activation='relu'),\n",
    "    layers.MaxPooling2D(pool_size=2),\n",
    "    layers.Dropout(0.3),\n",
    "    layers.Conv2D(1024, kernel_size=5, activation='relu'),\n",
    "    layers.MaxPooling2D(pool_size=2),\n",
    "    layers.Dropout(0.3),\n",
    "    layers.Flatten(),\n",
    "    layers.Dense(len(ENCODER)+1, activation='softmax')\n",
    "])"
   ]
  },
  {
   "cell_type": "code",
   "execution_count": 45,
   "id": "150624f2-edba-4b6b-8559-d2854c073b3c",
   "metadata": {},
   "outputs": [],
   "source": [
    "early_stopping = keras.callbacks.EarlyStopping(monitor=\"val_accuracy\", patience=5)\n",
    "optimizer = keras.optimizers.Adam()\n",
    "reduce_lr = keras.callbacks.ReduceLROnPlateau(monitor='val_loss', factor=0.5, patience=2, min_lr=1e-6)\n",
    "\n",
    "model.compile(loss='sparse_categorical_crossentropy',\n",
    "              optimizer=optimizer,\n",
    "              metrics=['accuracy'])"
   ]
  },
  {
   "cell_type": "code",
   "execution_count": 46,
   "id": "80805550-5dfe-4b11-872f-9bbecd66d15b",
   "metadata": {},
   "outputs": [
    {
     "name": "stdout",
     "output_type": "stream",
     "text": [
      "Epoch 1/20\n"
     ]
    },
    {
     "name": "stderr",
     "output_type": "stream",
     "text": [
      "C:\\Users\\Hp\\AppData\\Roaming\\Python\\Python312\\site-packages\\keras\\src\\trainers\\data_adapters\\py_dataset_adapter.py:121: UserWarning: Your `PyDataset` class should call `super().__init__(**kwargs)` in its constructor. `**kwargs` can include `workers`, `use_multiprocessing`, `max_queue_size`. Do not pass these arguments to `fit()`, as they will be ignored.\n",
      "  self._warn_if_super_not_called()\n"
     ]
    },
    {
     "name": "stdout",
     "output_type": "stream",
     "text": [
      "\u001b[1m35/35\u001b[0m \u001b[32m━━━━━━━━━━━━━━━━━━━━\u001b[0m\u001b[37m\u001b[0m \u001b[1m74s\u001b[0m 2s/step - accuracy: 0.7990 - loss: 0.5811 - val_accuracy: 0.7869 - val_loss: 0.6838 - learning_rate: 0.0010\n",
      "Epoch 2/20\n",
      "\u001b[1m35/35\u001b[0m \u001b[32m━━━━━━━━━━━━━━━━━━━━\u001b[0m\u001b[37m\u001b[0m \u001b[1m66s\u001b[0m 2s/step - accuracy: 0.8387 - loss: 0.4699 - val_accuracy: 0.8251 - val_loss: 0.4955 - learning_rate: 0.0010\n",
      "Epoch 3/20\n",
      "\u001b[1m35/35\u001b[0m \u001b[32m━━━━━━━━━━━━━━━━━━━━\u001b[0m\u001b[37m\u001b[0m \u001b[1m83s\u001b[0m 2s/step - accuracy: 0.8523 - loss: 0.4289 - val_accuracy: 0.8361 - val_loss: 0.5561 - learning_rate: 0.0010\n",
      "Epoch 4/20\n",
      "\u001b[1m35/35\u001b[0m \u001b[32m━━━━━━━━━━━━━━━━━━━━\u001b[0m\u001b[37m\u001b[0m \u001b[1m64s\u001b[0m 2s/step - accuracy: 0.8424 - loss: 0.4940 - val_accuracy: 0.8634 - val_loss: 0.4813 - learning_rate: 0.0010\n",
      "Epoch 5/20\n",
      "\u001b[1m35/35\u001b[0m \u001b[32m━━━━━━━━━━━━━━━━━━━━\u001b[0m\u001b[37m\u001b[0m \u001b[1m72s\u001b[0m 2s/step - accuracy: 0.8302 - loss: 0.4547 - val_accuracy: 0.8689 - val_loss: 0.5110 - learning_rate: 0.0010\n",
      "Epoch 6/20\n",
      "\u001b[1m35/35\u001b[0m \u001b[32m━━━━━━━━━━━━━━━━━━━━\u001b[0m\u001b[37m\u001b[0m \u001b[1m63s\u001b[0m 2s/step - accuracy: 0.8890 - loss: 0.3312 - val_accuracy: 0.8634 - val_loss: 0.5323 - learning_rate: 0.0010\n",
      "Epoch 7/20\n",
      "\u001b[1m35/35\u001b[0m \u001b[32m━━━━━━━━━━━━━━━━━━━━\u001b[0m\u001b[37m\u001b[0m \u001b[1m60s\u001b[0m 2s/step - accuracy: 0.9036 - loss: 0.3499 - val_accuracy: 0.8907 - val_loss: 0.3567 - learning_rate: 5.0000e-04\n",
      "Epoch 8/20\n",
      "\u001b[1m35/35\u001b[0m \u001b[32m━━━━━━━━━━━━━━━━━━━━\u001b[0m\u001b[37m\u001b[0m \u001b[1m63s\u001b[0m 2s/step - accuracy: 0.9018 - loss: 0.2981 - val_accuracy: 0.8907 - val_loss: 0.3892 - learning_rate: 5.0000e-04\n",
      "Epoch 9/20\n",
      "\u001b[1m35/35\u001b[0m \u001b[32m━━━━━━━━━━━━━━━━━━━━\u001b[0m\u001b[37m\u001b[0m \u001b[1m58s\u001b[0m 2s/step - accuracy: 0.8964 - loss: 0.3330 - val_accuracy: 0.8907 - val_loss: 0.3602 - learning_rate: 5.0000e-04\n",
      "Epoch 10/20\n",
      "\u001b[1m35/35\u001b[0m \u001b[32m━━━━━━━━━━━━━━━━━━━━\u001b[0m\u001b[37m\u001b[0m \u001b[1m55s\u001b[0m 2s/step - accuracy: 0.9060 - loss: 0.2301 - val_accuracy: 0.8852 - val_loss: 0.3566 - learning_rate: 2.5000e-04\n",
      "Epoch 11/20\n",
      "\u001b[1m35/35\u001b[0m \u001b[32m━━━━━━━━━━━━━━━━━━━━\u001b[0m\u001b[37m\u001b[0m \u001b[1m54s\u001b[0m 2s/step - accuracy: 0.9291 - loss: 0.2078 - val_accuracy: 0.8852 - val_loss: 0.3363 - learning_rate: 2.5000e-04\n",
      "Epoch 12/20\n",
      "\u001b[1m35/35\u001b[0m \u001b[32m━━━━━━━━━━━━━━━━━━━━\u001b[0m\u001b[37m\u001b[0m \u001b[1m62s\u001b[0m 2s/step - accuracy: 0.9312 - loss: 0.1804 - val_accuracy: 0.8962 - val_loss: 0.2979 - learning_rate: 2.5000e-04\n",
      "Epoch 13/20\n",
      "\u001b[1m35/35\u001b[0m \u001b[32m━━━━━━━━━━━━━━━━━━━━\u001b[0m\u001b[37m\u001b[0m \u001b[1m81s\u001b[0m 2s/step - accuracy: 0.9253 - loss: 0.2001 - val_accuracy: 0.9016 - val_loss: 0.3530 - learning_rate: 2.5000e-04\n",
      "Epoch 14/20\n",
      "\u001b[1m35/35\u001b[0m \u001b[32m━━━━━━━━━━━━━━━━━━━━\u001b[0m\u001b[37m\u001b[0m \u001b[1m66s\u001b[0m 2s/step - accuracy: 0.9383 - loss: 0.1826 - val_accuracy: 0.8852 - val_loss: 0.3469 - learning_rate: 2.5000e-04\n",
      "Epoch 15/20\n",
      "\u001b[1m35/35\u001b[0m \u001b[32m━━━━━━━━━━━━━━━━━━━━\u001b[0m\u001b[37m\u001b[0m \u001b[1m63s\u001b[0m 2s/step - accuracy: 0.9321 - loss: 0.2243 - val_accuracy: 0.8962 - val_loss: 0.3346 - learning_rate: 1.2500e-04\n",
      "Epoch 16/20\n",
      "\u001b[1m35/35\u001b[0m \u001b[32m━━━━━━━━━━━━━━━━━━━━\u001b[0m\u001b[37m\u001b[0m \u001b[1m62s\u001b[0m 2s/step - accuracy: 0.9393 - loss: 0.1434 - val_accuracy: 0.9126 - val_loss: 0.3265 - learning_rate: 1.2500e-04\n",
      "Epoch 17/20\n",
      "\u001b[1m35/35\u001b[0m \u001b[32m━━━━━━━━━━━━━━━━━━━━\u001b[0m\u001b[37m\u001b[0m \u001b[1m56s\u001b[0m 2s/step - accuracy: 0.9121 - loss: 0.2553 - val_accuracy: 0.9016 - val_loss: 0.3305 - learning_rate: 6.2500e-05\n",
      "Epoch 18/20\n",
      "\u001b[1m35/35\u001b[0m \u001b[32m━━━━━━━━━━━━━━━━━━━━\u001b[0m\u001b[37m\u001b[0m \u001b[1m64s\u001b[0m 2s/step - accuracy: 0.9400 - loss: 0.1894 - val_accuracy: 0.9071 - val_loss: 0.3258 - learning_rate: 6.2500e-05\n",
      "Epoch 19/20\n",
      "\u001b[1m35/35\u001b[0m \u001b[32m━━━━━━━━━━━━━━━━━━━━\u001b[0m\u001b[37m\u001b[0m \u001b[1m56s\u001b[0m 2s/step - accuracy: 0.9376 - loss: 0.1948 - val_accuracy: 0.9071 - val_loss: 0.3299 - learning_rate: 3.1250e-05\n",
      "Epoch 20/20\n",
      "\u001b[1m35/35\u001b[0m \u001b[32m━━━━━━━━━━━━━━━━━━━━\u001b[0m\u001b[37m\u001b[0m \u001b[1m65s\u001b[0m 2s/step - accuracy: 0.9127 - loss: 0.1880 - val_accuracy: 0.9071 - val_loss: 0.3313 - learning_rate: 3.1250e-05\n"
     ]
    },
    {
     "data": {
      "text/plain": [
       "<keras.src.callbacks.history.History at 0x1b3a7a54e90>"
      ]
     },
     "execution_count": 46,
     "metadata": {},
     "output_type": "execute_result"
    }
   ],
   "source": [
    "model.fit(datagen.flow(imgs_train,labels_train,batch_size=batch_size),\n",
    "          epochs=epochs,\n",
    "        \n",
    "          validation_data=(imgs_test, labels_test),\n",
    "          callbacks=[early_stopping, reduce_lr])"
   ]
  },
  {
   "cell_type": "code",
   "execution_count": 47,
   "id": "ccb96943-a51a-4919-afa6-22ca6e9e7147",
   "metadata": {},
   "outputs": [
    {
     "name": "stdout",
     "output_type": "stream",
     "text": [
      "\u001b[1m6/6\u001b[0m \u001b[32m━━━━━━━━━━━━━━━━━━━━\u001b[0m\u001b[37m\u001b[0m \u001b[1m4s\u001b[0m 582ms/step\n"
     ]
    }
   ],
   "source": [
    "labels_pred = np.argmax(model.predict(imgs_test), axis=-1)"
   ]
  },
  {
   "cell_type": "code",
   "execution_count": 48,
   "id": "9b2a2e84-c707-4372-9fbc-292d054b0a36",
   "metadata": {},
   "outputs": [],
   "source": [
    "cm = confusion_matrix(labels_test, labels_pred, labels=list(ENCODER.inverse.keys()))"
   ]
  },
  {
   "cell_type": "code",
   "execution_count": 49,
   "id": "d85d9aa6-b6ca-4017-8bc4-14030d4129aa",
   "metadata": {
    "tags": []
   },
   "outputs": [
    {
     "name": "stderr",
     "output_type": "stream",
     "text": [
      "C:\\ProgramData\\anaconda3\\Lib\\site-packages\\seaborn\\utils.py:61: UserWarning: Glyph 2693 (\\N{GUJARATI LETTER A}) missing from current font.\n",
      "  fig.canvas.draw()\n",
      "C:\\ProgramData\\anaconda3\\Lib\\site-packages\\seaborn\\utils.py:61: UserWarning: Matplotlib currently does not support Gujarati natively.\n",
      "  fig.canvas.draw()\n",
      "C:\\ProgramData\\anaconda3\\Lib\\site-packages\\seaborn\\utils.py:61: UserWarning: Glyph 2694 (\\N{GUJARATI LETTER AA}) missing from current font.\n",
      "  fig.canvas.draw()\n",
      "C:\\ProgramData\\anaconda3\\Lib\\site-packages\\seaborn\\utils.py:61: UserWarning: Glyph 2695 (\\N{GUJARATI LETTER I}) missing from current font.\n",
      "  fig.canvas.draw()\n",
      "C:\\ProgramData\\anaconda3\\Lib\\site-packages\\seaborn\\utils.py:61: UserWarning: Glyph 2696 (\\N{GUJARATI LETTER II}) missing from current font.\n",
      "  fig.canvas.draw()\n",
      "C:\\ProgramData\\anaconda3\\Lib\\site-packages\\seaborn\\utils.py:61: UserWarning: Glyph 2697 (\\N{GUJARATI LETTER U}) missing from current font.\n",
      "  fig.canvas.draw()\n",
      "C:\\ProgramData\\anaconda3\\Lib\\site-packages\\seaborn\\utils.py:61: UserWarning: Glyph 2698 (\\N{GUJARATI LETTER UU}) missing from current font.\n",
      "  fig.canvas.draw()\n",
      "C:\\ProgramData\\anaconda3\\Lib\\site-packages\\seaborn\\utils.py:61: UserWarning: Glyph 2699 (\\N{GUJARATI LETTER VOCALIC R}) missing from current font.\n",
      "  fig.canvas.draw()\n",
      "C:\\ProgramData\\anaconda3\\Lib\\site-packages\\seaborn\\utils.py:61: UserWarning: Glyph 2703 (\\N{GUJARATI LETTER E}) missing from current font.\n",
      "  fig.canvas.draw()\n",
      "C:\\ProgramData\\anaconda3\\Lib\\site-packages\\seaborn\\utils.py:61: UserWarning: Glyph 2704 (\\N{GUJARATI LETTER AI}) missing from current font.\n",
      "  fig.canvas.draw()\n",
      "C:\\ProgramData\\anaconda3\\Lib\\site-packages\\seaborn\\utils.py:61: UserWarning: Glyph 2707 (\\N{GUJARATI LETTER O}) missing from current font.\n",
      "  fig.canvas.draw()\n",
      "C:\\ProgramData\\anaconda3\\Lib\\site-packages\\seaborn\\utils.py:61: UserWarning: Glyph 2708 (\\N{GUJARATI LETTER AU}) missing from current font.\n",
      "  fig.canvas.draw()\n",
      "C:\\ProgramData\\anaconda3\\Lib\\site-packages\\seaborn\\utils.py:61: UserWarning: Glyph 2709 (\\N{GUJARATI LETTER KA}) missing from current font.\n",
      "  fig.canvas.draw()\n",
      "C:\\ProgramData\\anaconda3\\Lib\\site-packages\\seaborn\\utils.py:61: UserWarning: Glyph 2710 (\\N{GUJARATI LETTER KHA}) missing from current font.\n",
      "  fig.canvas.draw()\n",
      "C:\\ProgramData\\anaconda3\\Lib\\site-packages\\seaborn\\utils.py:61: UserWarning: Glyph 2711 (\\N{GUJARATI LETTER GA}) missing from current font.\n",
      "  fig.canvas.draw()\n",
      "C:\\ProgramData\\anaconda3\\Lib\\site-packages\\seaborn\\utils.py:61: UserWarning: Glyph 2712 (\\N{GUJARATI LETTER GHA}) missing from current font.\n",
      "  fig.canvas.draw()\n",
      "C:\\ProgramData\\anaconda3\\Lib\\site-packages\\seaborn\\utils.py:61: UserWarning: Glyph 2713 (\\N{GUJARATI LETTER NGA}) missing from current font.\n",
      "  fig.canvas.draw()\n",
      "C:\\ProgramData\\anaconda3\\Lib\\site-packages\\seaborn\\utils.py:61: UserWarning: Glyph 2714 (\\N{GUJARATI LETTER CA}) missing from current font.\n",
      "  fig.canvas.draw()\n",
      "C:\\ProgramData\\anaconda3\\Lib\\site-packages\\seaborn\\utils.py:61: UserWarning: Glyph 2715 (\\N{GUJARATI LETTER CHA}) missing from current font.\n",
      "  fig.canvas.draw()\n",
      "C:\\ProgramData\\anaconda3\\Lib\\site-packages\\seaborn\\utils.py:61: UserWarning: Glyph 2716 (\\N{GUJARATI LETTER JA}) missing from current font.\n",
      "  fig.canvas.draw()\n",
      "C:\\ProgramData\\anaconda3\\Lib\\site-packages\\seaborn\\utils.py:61: UserWarning: Glyph 2717 (\\N{GUJARATI LETTER JHA}) missing from current font.\n",
      "  fig.canvas.draw()\n",
      "C:\\ProgramData\\anaconda3\\Lib\\site-packages\\seaborn\\utils.py:61: UserWarning: Glyph 2718 (\\N{GUJARATI LETTER NYA}) missing from current font.\n",
      "  fig.canvas.draw()\n",
      "C:\\ProgramData\\anaconda3\\Lib\\site-packages\\seaborn\\utils.py:61: UserWarning: Glyph 2719 (\\N{GUJARATI LETTER TTA}) missing from current font.\n",
      "  fig.canvas.draw()\n",
      "C:\\ProgramData\\anaconda3\\Lib\\site-packages\\seaborn\\utils.py:61: UserWarning: Glyph 2720 (\\N{GUJARATI LETTER TTHA}) missing from current font.\n",
      "  fig.canvas.draw()\n",
      "C:\\ProgramData\\anaconda3\\Lib\\site-packages\\seaborn\\utils.py:61: UserWarning: Glyph 2721 (\\N{GUJARATI LETTER DDA}) missing from current font.\n",
      "  fig.canvas.draw()\n",
      "C:\\ProgramData\\anaconda3\\Lib\\site-packages\\seaborn\\utils.py:61: UserWarning: Glyph 2722 (\\N{GUJARATI LETTER DDHA}) missing from current font.\n",
      "  fig.canvas.draw()\n",
      "C:\\ProgramData\\anaconda3\\Lib\\site-packages\\seaborn\\utils.py:61: UserWarning: Glyph 2723 (\\N{GUJARATI LETTER NNA}) missing from current font.\n",
      "  fig.canvas.draw()\n",
      "C:\\ProgramData\\anaconda3\\Lib\\site-packages\\seaborn\\utils.py:61: UserWarning: Glyph 2724 (\\N{GUJARATI LETTER TA}) missing from current font.\n",
      "  fig.canvas.draw()\n",
      "C:\\ProgramData\\anaconda3\\Lib\\site-packages\\seaborn\\utils.py:61: UserWarning: Glyph 2725 (\\N{GUJARATI LETTER THA}) missing from current font.\n",
      "  fig.canvas.draw()\n",
      "C:\\ProgramData\\anaconda3\\Lib\\site-packages\\seaborn\\utils.py:61: UserWarning: Glyph 2726 (\\N{GUJARATI LETTER DA}) missing from current font.\n",
      "  fig.canvas.draw()\n",
      "C:\\ProgramData\\anaconda3\\Lib\\site-packages\\seaborn\\utils.py:61: UserWarning: Glyph 2727 (\\N{GUJARATI LETTER DHA}) missing from current font.\n",
      "  fig.canvas.draw()\n",
      "C:\\ProgramData\\anaconda3\\Lib\\site-packages\\seaborn\\utils.py:61: UserWarning: Glyph 2728 (\\N{GUJARATI LETTER NA}) missing from current font.\n",
      "  fig.canvas.draw()\n",
      "C:\\ProgramData\\anaconda3\\Lib\\site-packages\\seaborn\\utils.py:61: UserWarning: Glyph 2730 (\\N{GUJARATI LETTER PA}) missing from current font.\n",
      "  fig.canvas.draw()\n",
      "C:\\ProgramData\\anaconda3\\Lib\\site-packages\\seaborn\\utils.py:61: UserWarning: Glyph 2731 (\\N{GUJARATI LETTER PHA}) missing from current font.\n",
      "  fig.canvas.draw()\n",
      "C:\\ProgramData\\anaconda3\\Lib\\site-packages\\seaborn\\utils.py:61: UserWarning: Glyph 2732 (\\N{GUJARATI LETTER BA}) missing from current font.\n",
      "  fig.canvas.draw()\n",
      "C:\\ProgramData\\anaconda3\\Lib\\site-packages\\seaborn\\utils.py:61: UserWarning: Glyph 2733 (\\N{GUJARATI LETTER BHA}) missing from current font.\n",
      "  fig.canvas.draw()\n",
      "C:\\ProgramData\\anaconda3\\Lib\\site-packages\\seaborn\\utils.py:61: UserWarning: Glyph 2734 (\\N{GUJARATI LETTER MA}) missing from current font.\n",
      "  fig.canvas.draw()\n",
      "C:\\ProgramData\\anaconda3\\Lib\\site-packages\\seaborn\\utils.py:61: UserWarning: Glyph 2735 (\\N{GUJARATI LETTER YA}) missing from current font.\n",
      "  fig.canvas.draw()\n",
      "C:\\ProgramData\\anaconda3\\Lib\\site-packages\\seaborn\\utils.py:61: UserWarning: Glyph 2736 (\\N{GUJARATI LETTER RA}) missing from current font.\n",
      "  fig.canvas.draw()\n",
      "C:\\ProgramData\\anaconda3\\Lib\\site-packages\\seaborn\\utils.py:61: UserWarning: Glyph 2738 (\\N{GUJARATI LETTER LA}) missing from current font.\n",
      "  fig.canvas.draw()\n",
      "C:\\ProgramData\\anaconda3\\Lib\\site-packages\\seaborn\\utils.py:61: UserWarning: Glyph 2741 (\\N{GUJARATI LETTER VA}) missing from current font.\n",
      "  fig.canvas.draw()\n",
      "C:\\ProgramData\\anaconda3\\Lib\\site-packages\\seaborn\\utils.py:61: UserWarning: Glyph 2742 (\\N{GUJARATI LETTER SHA}) missing from current font.\n",
      "  fig.canvas.draw()\n",
      "C:\\ProgramData\\anaconda3\\Lib\\site-packages\\seaborn\\utils.py:61: UserWarning: Glyph 2743 (\\N{GUJARATI LETTER SSA}) missing from current font.\n",
      "  fig.canvas.draw()\n",
      "C:\\ProgramData\\anaconda3\\Lib\\site-packages\\seaborn\\utils.py:61: UserWarning: Glyph 2744 (\\N{GUJARATI LETTER SA}) missing from current font.\n",
      "  fig.canvas.draw()\n",
      "C:\\ProgramData\\anaconda3\\Lib\\site-packages\\seaborn\\utils.py:61: UserWarning: Glyph 2745 (\\N{GUJARATI LETTER HA}) missing from current font.\n",
      "  fig.canvas.draw()\n",
      "C:\\ProgramData\\anaconda3\\Lib\\site-packages\\seaborn\\utils.py:61: UserWarning: Glyph 2739 (\\N{GUJARATI LETTER LLA}) missing from current font.\n",
      "  fig.canvas.draw()\n",
      "C:\\ProgramData\\anaconda3\\Lib\\site-packages\\seaborn\\utils.py:61: UserWarning: Glyph 2765 (\\N{GUJARATI SIGN VIRAMA}) missing from current font.\n",
      "  fig.canvas.draw()\n",
      "C:\\ProgramData\\anaconda3\\Lib\\site-packages\\IPython\\core\\pylabtools.py:170: UserWarning: Glyph 2693 (\\N{GUJARATI LETTER A}) missing from current font.\n",
      "  fig.canvas.print_figure(bytes_io, **kw)\n",
      "C:\\ProgramData\\anaconda3\\Lib\\site-packages\\IPython\\core\\pylabtools.py:170: UserWarning: Matplotlib currently does not support Gujarati natively.\n",
      "  fig.canvas.print_figure(bytes_io, **kw)\n",
      "C:\\ProgramData\\anaconda3\\Lib\\site-packages\\IPython\\core\\pylabtools.py:170: UserWarning: Glyph 2694 (\\N{GUJARATI LETTER AA}) missing from current font.\n",
      "  fig.canvas.print_figure(bytes_io, **kw)\n",
      "C:\\ProgramData\\anaconda3\\Lib\\site-packages\\IPython\\core\\pylabtools.py:170: UserWarning: Glyph 2695 (\\N{GUJARATI LETTER I}) missing from current font.\n",
      "  fig.canvas.print_figure(bytes_io, **kw)\n",
      "C:\\ProgramData\\anaconda3\\Lib\\site-packages\\IPython\\core\\pylabtools.py:170: UserWarning: Glyph 2696 (\\N{GUJARATI LETTER II}) missing from current font.\n",
      "  fig.canvas.print_figure(bytes_io, **kw)\n",
      "C:\\ProgramData\\anaconda3\\Lib\\site-packages\\IPython\\core\\pylabtools.py:170: UserWarning: Glyph 2697 (\\N{GUJARATI LETTER U}) missing from current font.\n",
      "  fig.canvas.print_figure(bytes_io, **kw)\n",
      "C:\\ProgramData\\anaconda3\\Lib\\site-packages\\IPython\\core\\pylabtools.py:170: UserWarning: Glyph 2698 (\\N{GUJARATI LETTER UU}) missing from current font.\n",
      "  fig.canvas.print_figure(bytes_io, **kw)\n",
      "C:\\ProgramData\\anaconda3\\Lib\\site-packages\\IPython\\core\\pylabtools.py:170: UserWarning: Glyph 2699 (\\N{GUJARATI LETTER VOCALIC R}) missing from current font.\n",
      "  fig.canvas.print_figure(bytes_io, **kw)\n",
      "C:\\ProgramData\\anaconda3\\Lib\\site-packages\\IPython\\core\\pylabtools.py:170: UserWarning: Glyph 2703 (\\N{GUJARATI LETTER E}) missing from current font.\n",
      "  fig.canvas.print_figure(bytes_io, **kw)\n",
      "C:\\ProgramData\\anaconda3\\Lib\\site-packages\\IPython\\core\\pylabtools.py:170: UserWarning: Glyph 2704 (\\N{GUJARATI LETTER AI}) missing from current font.\n",
      "  fig.canvas.print_figure(bytes_io, **kw)\n",
      "C:\\ProgramData\\anaconda3\\Lib\\site-packages\\IPython\\core\\pylabtools.py:170: UserWarning: Glyph 2707 (\\N{GUJARATI LETTER O}) missing from current font.\n",
      "  fig.canvas.print_figure(bytes_io, **kw)\n",
      "C:\\ProgramData\\anaconda3\\Lib\\site-packages\\IPython\\core\\pylabtools.py:170: UserWarning: Glyph 2708 (\\N{GUJARATI LETTER AU}) missing from current font.\n",
      "  fig.canvas.print_figure(bytes_io, **kw)\n",
      "C:\\ProgramData\\anaconda3\\Lib\\site-packages\\IPython\\core\\pylabtools.py:170: UserWarning: Glyph 2709 (\\N{GUJARATI LETTER KA}) missing from current font.\n",
      "  fig.canvas.print_figure(bytes_io, **kw)\n",
      "C:\\ProgramData\\anaconda3\\Lib\\site-packages\\IPython\\core\\pylabtools.py:170: UserWarning: Glyph 2710 (\\N{GUJARATI LETTER KHA}) missing from current font.\n",
      "  fig.canvas.print_figure(bytes_io, **kw)\n",
      "C:\\ProgramData\\anaconda3\\Lib\\site-packages\\IPython\\core\\pylabtools.py:170: UserWarning: Glyph 2711 (\\N{GUJARATI LETTER GA}) missing from current font.\n",
      "  fig.canvas.print_figure(bytes_io, **kw)\n",
      "C:\\ProgramData\\anaconda3\\Lib\\site-packages\\IPython\\core\\pylabtools.py:170: UserWarning: Glyph 2712 (\\N{GUJARATI LETTER GHA}) missing from current font.\n",
      "  fig.canvas.print_figure(bytes_io, **kw)\n",
      "C:\\ProgramData\\anaconda3\\Lib\\site-packages\\IPython\\core\\pylabtools.py:170: UserWarning: Glyph 2713 (\\N{GUJARATI LETTER NGA}) missing from current font.\n",
      "  fig.canvas.print_figure(bytes_io, **kw)\n",
      "C:\\ProgramData\\anaconda3\\Lib\\site-packages\\IPython\\core\\pylabtools.py:170: UserWarning: Glyph 2714 (\\N{GUJARATI LETTER CA}) missing from current font.\n",
      "  fig.canvas.print_figure(bytes_io, **kw)\n",
      "C:\\ProgramData\\anaconda3\\Lib\\site-packages\\IPython\\core\\pylabtools.py:170: UserWarning: Glyph 2715 (\\N{GUJARATI LETTER CHA}) missing from current font.\n",
      "  fig.canvas.print_figure(bytes_io, **kw)\n",
      "C:\\ProgramData\\anaconda3\\Lib\\site-packages\\IPython\\core\\pylabtools.py:170: UserWarning: Glyph 2716 (\\N{GUJARATI LETTER JA}) missing from current font.\n",
      "  fig.canvas.print_figure(bytes_io, **kw)\n",
      "C:\\ProgramData\\anaconda3\\Lib\\site-packages\\IPython\\core\\pylabtools.py:170: UserWarning: Glyph 2717 (\\N{GUJARATI LETTER JHA}) missing from current font.\n",
      "  fig.canvas.print_figure(bytes_io, **kw)\n",
      "C:\\ProgramData\\anaconda3\\Lib\\site-packages\\IPython\\core\\pylabtools.py:170: UserWarning: Glyph 2718 (\\N{GUJARATI LETTER NYA}) missing from current font.\n",
      "  fig.canvas.print_figure(bytes_io, **kw)\n",
      "C:\\ProgramData\\anaconda3\\Lib\\site-packages\\IPython\\core\\pylabtools.py:170: UserWarning: Glyph 2719 (\\N{GUJARATI LETTER TTA}) missing from current font.\n",
      "  fig.canvas.print_figure(bytes_io, **kw)\n",
      "C:\\ProgramData\\anaconda3\\Lib\\site-packages\\IPython\\core\\pylabtools.py:170: UserWarning: Glyph 2720 (\\N{GUJARATI LETTER TTHA}) missing from current font.\n",
      "  fig.canvas.print_figure(bytes_io, **kw)\n",
      "C:\\ProgramData\\anaconda3\\Lib\\site-packages\\IPython\\core\\pylabtools.py:170: UserWarning: Glyph 2721 (\\N{GUJARATI LETTER DDA}) missing from current font.\n",
      "  fig.canvas.print_figure(bytes_io, **kw)\n",
      "C:\\ProgramData\\anaconda3\\Lib\\site-packages\\IPython\\core\\pylabtools.py:170: UserWarning: Glyph 2722 (\\N{GUJARATI LETTER DDHA}) missing from current font.\n",
      "  fig.canvas.print_figure(bytes_io, **kw)\n",
      "C:\\ProgramData\\anaconda3\\Lib\\site-packages\\IPython\\core\\pylabtools.py:170: UserWarning: Glyph 2723 (\\N{GUJARATI LETTER NNA}) missing from current font.\n",
      "  fig.canvas.print_figure(bytes_io, **kw)\n",
      "C:\\ProgramData\\anaconda3\\Lib\\site-packages\\IPython\\core\\pylabtools.py:170: UserWarning: Glyph 2724 (\\N{GUJARATI LETTER TA}) missing from current font.\n",
      "  fig.canvas.print_figure(bytes_io, **kw)\n",
      "C:\\ProgramData\\anaconda3\\Lib\\site-packages\\IPython\\core\\pylabtools.py:170: UserWarning: Glyph 2725 (\\N{GUJARATI LETTER THA}) missing from current font.\n",
      "  fig.canvas.print_figure(bytes_io, **kw)\n",
      "C:\\ProgramData\\anaconda3\\Lib\\site-packages\\IPython\\core\\pylabtools.py:170: UserWarning: Glyph 2726 (\\N{GUJARATI LETTER DA}) missing from current font.\n",
      "  fig.canvas.print_figure(bytes_io, **kw)\n",
      "C:\\ProgramData\\anaconda3\\Lib\\site-packages\\IPython\\core\\pylabtools.py:170: UserWarning: Glyph 2727 (\\N{GUJARATI LETTER DHA}) missing from current font.\n",
      "  fig.canvas.print_figure(bytes_io, **kw)\n",
      "C:\\ProgramData\\anaconda3\\Lib\\site-packages\\IPython\\core\\pylabtools.py:170: UserWarning: Glyph 2728 (\\N{GUJARATI LETTER NA}) missing from current font.\n",
      "  fig.canvas.print_figure(bytes_io, **kw)\n",
      "C:\\ProgramData\\anaconda3\\Lib\\site-packages\\IPython\\core\\pylabtools.py:170: UserWarning: Glyph 2730 (\\N{GUJARATI LETTER PA}) missing from current font.\n",
      "  fig.canvas.print_figure(bytes_io, **kw)\n",
      "C:\\ProgramData\\anaconda3\\Lib\\site-packages\\IPython\\core\\pylabtools.py:170: UserWarning: Glyph 2731 (\\N{GUJARATI LETTER PHA}) missing from current font.\n",
      "  fig.canvas.print_figure(bytes_io, **kw)\n",
      "C:\\ProgramData\\anaconda3\\Lib\\site-packages\\IPython\\core\\pylabtools.py:170: UserWarning: Glyph 2732 (\\N{GUJARATI LETTER BA}) missing from current font.\n",
      "  fig.canvas.print_figure(bytes_io, **kw)\n",
      "C:\\ProgramData\\anaconda3\\Lib\\site-packages\\IPython\\core\\pylabtools.py:170: UserWarning: Glyph 2733 (\\N{GUJARATI LETTER BHA}) missing from current font.\n",
      "  fig.canvas.print_figure(bytes_io, **kw)\n",
      "C:\\ProgramData\\anaconda3\\Lib\\site-packages\\IPython\\core\\pylabtools.py:170: UserWarning: Glyph 2734 (\\N{GUJARATI LETTER MA}) missing from current font.\n",
      "  fig.canvas.print_figure(bytes_io, **kw)\n",
      "C:\\ProgramData\\anaconda3\\Lib\\site-packages\\IPython\\core\\pylabtools.py:170: UserWarning: Glyph 2735 (\\N{GUJARATI LETTER YA}) missing from current font.\n",
      "  fig.canvas.print_figure(bytes_io, **kw)\n",
      "C:\\ProgramData\\anaconda3\\Lib\\site-packages\\IPython\\core\\pylabtools.py:170: UserWarning: Glyph 2736 (\\N{GUJARATI LETTER RA}) missing from current font.\n",
      "  fig.canvas.print_figure(bytes_io, **kw)\n",
      "C:\\ProgramData\\anaconda3\\Lib\\site-packages\\IPython\\core\\pylabtools.py:170: UserWarning: Glyph 2738 (\\N{GUJARATI LETTER LA}) missing from current font.\n",
      "  fig.canvas.print_figure(bytes_io, **kw)\n",
      "C:\\ProgramData\\anaconda3\\Lib\\site-packages\\IPython\\core\\pylabtools.py:170: UserWarning: Glyph 2741 (\\N{GUJARATI LETTER VA}) missing from current font.\n",
      "  fig.canvas.print_figure(bytes_io, **kw)\n",
      "C:\\ProgramData\\anaconda3\\Lib\\site-packages\\IPython\\core\\pylabtools.py:170: UserWarning: Glyph 2742 (\\N{GUJARATI LETTER SHA}) missing from current font.\n",
      "  fig.canvas.print_figure(bytes_io, **kw)\n",
      "C:\\ProgramData\\anaconda3\\Lib\\site-packages\\IPython\\core\\pylabtools.py:170: UserWarning: Glyph 2743 (\\N{GUJARATI LETTER SSA}) missing from current font.\n",
      "  fig.canvas.print_figure(bytes_io, **kw)\n",
      "C:\\ProgramData\\anaconda3\\Lib\\site-packages\\IPython\\core\\pylabtools.py:170: UserWarning: Glyph 2744 (\\N{GUJARATI LETTER SA}) missing from current font.\n",
      "  fig.canvas.print_figure(bytes_io, **kw)\n",
      "C:\\ProgramData\\anaconda3\\Lib\\site-packages\\IPython\\core\\pylabtools.py:170: UserWarning: Glyph 2745 (\\N{GUJARATI LETTER HA}) missing from current font.\n",
      "  fig.canvas.print_figure(bytes_io, **kw)\n",
      "C:\\ProgramData\\anaconda3\\Lib\\site-packages\\IPython\\core\\pylabtools.py:170: UserWarning: Glyph 2739 (\\N{GUJARATI LETTER LLA}) missing from current font.\n",
      "  fig.canvas.print_figure(bytes_io, **kw)\n",
      "C:\\ProgramData\\anaconda3\\Lib\\site-packages\\IPython\\core\\pylabtools.py:170: UserWarning: Glyph 2765 (\\N{GUJARATI SIGN VIRAMA}) missing from current font.\n",
      "  fig.canvas.print_figure(bytes_io, **kw)\n"
     ]
    },
    {
     "data": {
      "image/png": "[encoded data removed]",
      "text/plain": [
       "<Figure size 1200x1200 with 1 Axes>"
      ]
     },
     "metadata": {},
     "output_type": "display_data"
    }
   ],
   "source": [
    "plt.figure(figsize=(12, 12))\n",
    "sns.heatmap(cm, annot=True, cbar=False, cmap=\"Blues\", xticklabels=list(ENCODER.keys()), yticklabels=list(ENCODER.keys()))\n",
    "plt.show()"
   ]
  },
  {
   "cell_type": "code",
   "execution_count": 50,
   "id": "7836d5b2-3c2d-4004-a82e-d604439a1d93",
   "metadata": {},
   "outputs": [],
   "source": [
    "model.save('model.keras')"
   ]
  },
  {
   "cell_type": "code",
   "execution_count": null,
   "id": "54533e39-ae0e-4468-a98f-78075dac9843",
   "metadata": {},
   "outputs": [],
   "source": []
  }
 ],
 "metadata": {
  "kernelspec": {
   "display_name": "Python 3 (ipykernel)",
   "language": "python",
   "name": "python3"
  },
  "language_info": {
   "codemirror_mode": {
    "name": "ipython",
    "version": 3
   },
   "file_extension": ".py",
   "mimetype": "text/x-python",
   "name": "python",
   "nbconvert_exporter": "python",
   "pygments_lexer": "ipython3",
   "version": "3.12.4"
  }
 },
 "nbformat": 4,
 "nbformat_minor": 5
}
